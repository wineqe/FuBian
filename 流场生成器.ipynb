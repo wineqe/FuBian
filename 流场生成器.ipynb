{
 "cells": [
  {
   "cell_type": "code",
   "execution_count": 2,
   "id": "29414907-3482-40f7-baa7-078461262c9d",
   "metadata": {},
   "outputs": [
    {
     "data": {
      "application/vnd.jupyter.widget-view+json": {
       "model_id": "d76bfa02a5004c7e9358a5a4faad8286",
       "version_major": 2,
       "version_minor": 0
      },
      "text/plain": [
       "interactive(children=(FloatText(value=5.0, description='流速 U', step=0.1), FloatSlider(value=1.0, description='…"
      ]
     },
     "metadata": {},
     "output_type": "display_data"
    }
   ],
   "source": [
    "import numpy as np\n",
    "import matplotlib.pyplot as plt\n",
    "from matplotlib import font_manager\n",
    "\n",
    "# 设置字体，确保中文可正常显示\n",
    "font_path = \"C:/Windows/Fonts/simhei.ttf\"  # 适用于 Windows\n",
    "# font_path = \"/usr/share/fonts/opentype/noto/NotoSansCJK-Regular.ttc\"  # 适用于 Linux\n",
    "# font_path = \"/System/Library/Fonts/Supplemental/Songti.ttc\"  # 适用于 Mac\n",
    "\n",
    "font = font_manager.FontProperties(fname=font_path)\n",
    "plt.rcParams[\"font.family\"] = font.get_name()\n",
    "plt.rcParams[\"axes.unicode_minus\"] = False\n",
    "\n",
    "from ipywidgets import interact, FloatText, FloatSlider\n",
    "from IPython.display import display\n",
    "import time\n",
    "\n",
    "class FlowSimulator:\n",
    "    def __init__(self, resolution=400):\n",
    "        self.resolution = resolution\n",
    "        self.ν = 1.5e-5  # 运动粘度 (m²/s)\n",
    "        self.x = np.linspace(-3, 3, self.resolution)\n",
    "        self.y = np.linspace(-3, 3, self.resolution)\n",
    "        self.X, self.Y = np.meshgrid(self.x, self.y)\n",
    "        self.U_widget = FloatText(value=5, min=1, max=10, step=0.1, description=\"流速 U\")\n",
    "        self.a_widget = FloatSlider(value=1.0, min=0.5, max=2.0, step=0.1, description=\"圆柱半径 a\")\n",
    "\n",
    "    def compute_velocity(self, U, a):\n",
    "        Z = self.X + 1j * self.Y\n",
    "        mask = np.abs(Z) > a\n",
    "        V = np.zeros_like(Z, dtype=np.complex128)\n",
    "        V[mask] = U * (1 - a**2 / Z[mask]**2)\n",
    "        return V.real, -V.imag\n",
    "\n",
    "    def plot_flow(self, U, a):\n",
    "        u, v = self.compute_velocity(U, a)\n",
    "        fig, ax = plt.subplots(figsize=(6, 6), facecolor='#87CEEB')\n",
    "        ax.set_facecolor('#87CEEB')\n",
    "        ax.streamplot(self.X, self.Y, u, v, color='white', linewidth=0.8, density=2)\n",
    "        ax.add_patch(plt.Circle((0, 0), a, color='red', alpha=0.5))\n",
    "        ax.set_xlim([-3, 3])\n",
    "        ax.set_ylim([-3, 3])\n",
    "        ax.set_aspect('equal')\n",
    "        ax.set_title(f'流场可视化 (U={U} m/s, a={a} m)')\n",
    "        plt.show()\n",
    "\n",
    "    def run(self):\n",
    "        interact(lambda U, a: self.plot_flow(U, a), U=self.U_widget, a=self.a_widget)\n",
    "\n",
    "sim = FlowSimulator()\n",
    "sim.run()\n"
   ]
  },
  {
   "cell_type": "code",
   "execution_count": null,
   "id": "3e3d1354-ddae-4c0a-bab8-4f871c39551c",
   "metadata": {},
   "outputs": [],
   "source": []
  }
 ],
 "metadata": {
  "kernelspec": {
   "display_name": "Python 3 (ipykernel)",
   "language": "python",
   "name": "python3"
  },
  "language_info": {
   "codemirror_mode": {
    "name": "ipython",
    "version": 3
   },
   "file_extension": ".py",
   "mimetype": "text/x-python",
   "name": "python",
   "nbconvert_exporter": "python",
   "pygments_lexer": "ipython3",
   "version": "3.12.4"
  }
 },
 "nbformat": 4,
 "nbformat_minor": 5
}
