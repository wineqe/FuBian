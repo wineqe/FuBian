{
 "cells": [
  {
   "cell_type": "code",
   "execution_count": 39,
   "id": "90285c5f-b24a-47a2-890c-05dc38ad227a",
   "metadata": {},
   "outputs": [
    {
     "name": "stdout",
     "output_type": "stream",
     "text": [
      "r = 1, theta = 0.785, 最大残差 = 0.00e+00\n",
      "满足要求：最大残差小于 1e-6\n",
      "r = 2, theta = 0.785, 最大残差 = 0.00e+00\n",
      "满足要求：最大残差小于 1e-6\n",
      "r = 5, theta = 0.785, 最大残差 = 0.00e+00\n",
      "满足要求：最大残差小于 1e-6\n"
     ]
    }
   ],
   "source": [
    "import sympy as sp\n",
    "\n",
    "# 定义符号变量\n",
    "r, theta, U, a = sp.symbols('r theta U a', real=True, positive=True)\n",
    "z = r * sp.exp(sp.I * theta)  # 极坐标下的复数表示\n",
    "\n",
    "# 定义复势函数\n",
    "Phi = U * (z + a**2 / z)\n",
    "\n",
    "# 分离复势的实部和虚部\n",
    "varphi, psi = sp.re(Phi), sp.im(Phi)\n",
    "\n",
    "# 计算偏导数\n",
    "dvarphi_dr = sp.diff(varphi, r)\n",
    "dpsi_dtheta = sp.diff(psi, theta)\n",
    "dpsi_dr = sp.diff(psi, r)\n",
    "dvarphi_dtheta = sp.diff(varphi, theta)\n",
    "\n",
    "# 根据柯西-黎曼方程计算残差\n",
    "residual1 = dvarphi_dr - (1 / r) * dpsi_dtheta  # 柯西-黎曼方程的第一式\n",
    "residual2 = dpsi_dr + (1 / r) * dvarphi_dtheta  # 柯西-黎曼方程的第二式\n",
    "\n",
    "# 计算最大残差\n",
    "max_residual = sp.Max(sp.Abs(residual1), sp.Abs(residual2))\n",
    "\n",
    "# 数值评估\n",
    "# 假设 U = 1, a = 1，并对 r 和 theta 赋予具体值\n",
    "values = {U: 1, a: 1}\n",
    "\n",
    "# 定义一个函数来计算最大残差的数值\n",
    "def evaluate_residual(r_val, theta_val):\n",
    "    # 输入：r_val(径向坐标), theta_val(角度坐标)\n",
    "    # 输出：两个残差在给定点上的最大绝对值\n",
    "    eval_residual1 = residual1.subs({**values, r: r_val, theta: theta_val}).evalf()\n",
    "    eval_residual2 = residual2.subs({**values, r: r_val, theta: theta_val}).evalf()\n",
    "    return max(abs(eval_residual1), abs(eval_residual2))\n",
    "\n",
    "# 测试一些具体的 (r, theta) 值\n",
    "test_values = [1, 2, 5]  # r 的测试值\n",
    "theta_test = sp.pi / 4  # theta 的测试值（45度）\n",
    "\n",
    "for r_val in test_values:\n",
    "    max_residual_value = evaluate_residual(r_val, theta_test)\n",
    "    # 将 max_residual_value 转换为浮点数后再格式化\n",
    "    max_residual_value_float = float(max_residual_value)\n",
    "    print(f\"r = {r_val}, theta = {theta_test:.3f}, 最大残差 = {max_residual_value_float:.2e}\")\n",
    "    if max_residual_value_float < 1e-6:\n",
    "        print(\"满足要求：最大残差小于 1e-6\")\n",
    "    else:\n",
    "        print(\"不满足要求：最大残差大于或等于 1e-6\")"
   ]
  }
 ],
 "metadata": {
  "kernelspec": {
   "display_name": "Python [conda env:base] *",
   "language": "python",
   "name": "conda-base-py"
  },
  "language_info": {
   "codemirror_mode": {
    "name": "ipython",
    "version": 3
   },
   "file_extension": ".py",
   "mimetype": "text/x-python",
   "name": "python",
   "nbconvert_exporter": "python",
   "pygments_lexer": "ipython3",
   "version": "3.12.7"
  }
 },
 "nbformat": 4,
 "nbformat_minor": 5
}
