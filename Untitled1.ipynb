{
 "cells": [
  {
   "cell_type": "code",
   "execution_count": 1,
   "id": "a968a815-b180-4609-983f-73a7ca13b34d",
   "metadata": {},
   "outputs": [
    {
     "name": "stdout",
     "output_type": "stream",
     "text": [
      "偶极子强度 kappa = 2*pi*U*a**2\n",
      "合成复势 Φ(z) = U*a**2/z + U*z\n"
     ]
    }
   ],
   "source": [
    "import sympy as sp\n",
    "\n",
    "# 定义符号\n",
    "U, z, kappa, a = sp.symbols('U z kappa a')\n",
    "\n",
    "# 定义复势\n",
    "phi_uniform = U * z\n",
    "phi_doublet = kappa / (2 * sp.pi * z)\n",
    "phi_total = phi_uniform + phi_doublet\n",
    "\n",
    "# 计算复速度\n",
    "V = sp.diff(phi_total, z)\n",
    "\n",
    "# 利用圆柱表面法向速度为零的条件\n",
    "# 令 z = a，求解 kappa\n",
    "eq = sp.Eq(V.subs(z, a), 0)\n",
    "kappa_solution = sp.solve(eq, kappa)\n",
    "\n",
    "# 输出偶极子强度 kappa\n",
    "print(f\"偶极子强度 kappa = {kappa_solution[0]}\")\n",
    "\n",
    "# 将 kappa 的值代入总复势\n",
    "phi_final = phi_total.subs(kappa, kappa_solution[0])\n",
    "print(f\"合成复势 Φ(z) = {phi_final}\")\n",
    "    "
   ]
  },
  {
   "cell_type": "code",
   "execution_count": null,
   "id": "3f078c49-fbd7-4efd-aa1a-b4f6a9c2322f",
   "metadata": {},
   "outputs": [],
   "source": []
  }
 ],
 "metadata": {
  "kernelspec": {
   "display_name": "Python 3 (ipykernel)",
   "language": "python",
   "name": "python3"
  },
  "language_info": {
   "codemirror_mode": {
    "name": "ipython",
    "version": 3
   },
   "file_extension": ".py",
   "mimetype": "text/x-python",
   "name": "python",
   "nbconvert_exporter": "python",
   "pygments_lexer": "ipython3",
   "version": "3.12.7"
  }
 },
 "nbformat": 4,
 "nbformat_minor": 5
}
